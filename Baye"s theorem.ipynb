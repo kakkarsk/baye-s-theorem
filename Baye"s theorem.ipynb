{
 "cells": [
  {
   "cell_type": "markdown",
   "metadata": {},
   "source": [
    "A diagnostic test has a 98% probability of giving a positive result when applied to a person suffering from Thripshaw's Disease, and 10% probability of giving a (false) positive when applied to a non-sufferer. It is estimated that 0.5 % of the population are sufferers. Suppose that the test is now administered to a person whose disease status is unknown. Calculate the probability that the test will:\n",
    "\n",
    "1:Be positive\n",
    "= P(correct positive and sufferer) + P(false positive and non-sufferer)\n",
    "= P(positive | sufferer)P(sufferer) + P( positive | non-sufferer) P(non-sufferer)\n",
    "= 0.98 * 0.005 + 0.1 * (1 - 0.005)\n",
    "=0.1004\n",
    "\n"
   ]
  },
  {
   "cell_type": "markdown",
   "metadata": {},
   "source": [
    "2:Correctly diagnose a sufferer of Thripshaw’s = .98\n",
    "test has a 98% probability of giving a positive result when applied to someone with the diease the the probability is simply 98%."
   ]
  },
  {
   "cell_type": "markdown",
   "metadata": {},
   "source": [
    "3:Correctly identify a non-sufferer of Thripshaw's\n",
    "if the person does not have the diease but the test have a 10% false positive the there is a 90% chance the the test correct identifies someone as not having the diease.=0.9\n"
   ]
  },
  {
   "cell_type": "markdown",
   "metadata": {},
   "source": [
    "Misclassify the person 1-P(positive | sufferer)P(sufferer)+p(negative|non-sufferer)p(non-sufferer)\n",
    "Misclassify the person= 1-(.98*.005 + .9*.995)=.0996"
   ]
  }
 ],
 "metadata": {
  "kernelspec": {
   "display_name": "Python 3",
   "language": "python",
   "name": "python3"
  },
  "language_info": {
   "codemirror_mode": {
    "name": "ipython",
    "version": 3
   },
   "file_extension": ".py",
   "mimetype": "text/x-python",
   "name": "python",
   "nbconvert_exporter": "python",
   "pygments_lexer": "ipython3",
   "version": "3.6.5"
  }
 },
 "nbformat": 4,
 "nbformat_minor": 2
}
